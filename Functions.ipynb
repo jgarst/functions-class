{
 "cells": [
  {
   "cell_type": "markdown",
   "metadata": {
    "slideshow": {
     "slide_type": "slide"
    }
   },
   "source": [
    "# Welcome to the Noisebridge Python Class!"
   ]
  },
  {
   "cell_type": "markdown",
   "metadata": {
    "slideshow": {
     "slide_type": "slide"
    }
   },
   "source": [
    "### Calibrating question #1: Creating Functions\n",
    "\n",
    "#### “Adding” two strings produces their concatenation: `'a' + 'b'` is `'ab'`. Write a function called `fence` that takes two parameters called `original` and `wrapper` and returns a new string that has the wrapper character at the beginning and end of the original. A call to your function should look like this:"
   ]
  },
  {
   "cell_type": "code",
   "execution_count": 2,
   "metadata": {},
   "outputs": [
    {
     "data": {
      "text/plain": [
       "'*sheep*'"
      ]
     },
     "execution_count": 2,
     "metadata": {},
     "output_type": "execute_result"
    }
   ],
   "source": [
    "fence(\"sheep\", \"*\")"
   ]
  },
  {
   "cell_type": "markdown",
   "metadata": {
    "slideshow": {
     "slide_type": "slide"
    }
   },
   "source": [
    "### Calibrating question #2: `return` vs `print`\n",
    "\n",
    "#### What will the following code display?\n"
   ]
  },
  {
   "cell_type": "code",
   "execution_count": null,
   "metadata": {},
   "outputs": [],
   "source": [
    "def add(a, b):\n",
    "    print(a + b)\n",
    "    \n",
    "A = add(7, 3)\n",
    "print(A)"
   ]
  },
  {
   "cell_type": "markdown",
   "metadata": {},
   "source": [
    "### Calibrating question #3: default values\n",
    "\n",
    "#### What will the following code display"
   ]
  },
  {
   "cell_type": "code",
   "execution_count": null,
   "metadata": {},
   "outputs": [],
   "source": [
    "import datetime\n",
    "\n",
    "def print_time(time=datetime.datetime.now()):\n",
    "    print(time)\n",
    "    \n",
    "print_time()\n",
    "print_time()\n",
    "print_time()"
   ]
  },
  {
   "cell_type": "markdown",
   "metadata": {
    "slideshow": {
     "slide_type": "slide"
    }
   },
   "source": [
    "### Functions have 5 important parts\n",
    "* Syntax for creating a new function: \n",
    "    `def ____(____, ____):`\n",
    "* Name: `func`\n",
    "* Doc string: `\"add two numbers.\"`\n",
    "* Arguments / Parameters: `arg1`, `arg2`\n",
    "* Return statement: `return arg1 + arg2`"
   ]
  },
  {
   "cell_type": "markdown",
   "metadata": {
    "slideshow": {
     "slide_type": "slide"
    }
   },
   "source": [
    "### Passing arguments works like assignment"
   ]
  },
  {
   "cell_type": "code",
   "execution_count": null,
   "metadata": {},
   "outputs": [],
   "source": [
    "A = 5\n",
    "print(A)\n",
    "\n",
    "def F(B):\n",
    "    print(B)\n",
    "\n",
    "F(5)\n",
    "print(B)"
   ]
  },
  {
   "cell_type": "markdown",
   "metadata": {
    "slideshow": {
     "slide_type": "slide"
    }
   },
   "source": [
    "## We can unpack values into variables by matching structure"
   ]
  },
  {
   "cell_type": "code",
   "execution_count": null,
   "metadata": {
    "slideshow": {
     "slide_type": "-"
    }
   },
   "outputs": [],
   "source": [
    "(original, (wrapper, A)) = (\"sheep\", (\"|\", \"B\"))\n",
    "print(original)\n",
    "print(wrapper)\n",
    "print(A)\n",
    "\n",
    "def fence(original, wrapper):\n",
    "    return wrapper + original + wrapper\n",
    "\n",
    "fence(original, wrapper)"
   ]
  },
  {
   "cell_type": "markdown",
   "metadata": {
    "slideshow": {
     "slide_type": "slide"
    }
   },
   "source": [
    "## It is sometimes hard to read code when arguments are passed by position.\n",
    "\n",
    "### Try passing arguments by keyword"
   ]
  },
  {
   "cell_type": "code",
   "execution_count": null,
   "metadata": {},
   "outputs": [],
   "source": [
    "def fence(original, wrapper):\n",
    "    return wrapper + original + wrapper\n",
    "\n",
    "print(fence(original='sheep,sheep,sheep', wrapper='~'))\n",
    "print(fence(wrapper='~', original='sheep,sheep,sheep'))"
   ]
  },
  {
   "cell_type": "markdown",
   "metadata": {
    "slideshow": {
     "slide_type": "slide"
    }
   },
   "source": [
    "# Defaults"
   ]
  },
  {
   "cell_type": "code",
   "execution_count": null,
   "metadata": {},
   "outputs": [],
   "source": [
    "def fence(original, wrapper='|'):\n",
    "    return wrapper + original + wrapper\n",
    "\n",
    "print(fence('sheep,sheep,sheep'))"
   ]
  },
  {
   "cell_type": "markdown",
   "metadata": {
    "slideshow": {
     "slide_type": "slide"
    }
   },
   "source": [
    "## `*` is called the unpack, or 'splat' operator"
   ]
  },
  {
   "cell_type": "code",
   "execution_count": null,
   "metadata": {},
   "outputs": [],
   "source": [
    "(*args,) = 1, 2, 3, 4\n",
    "\n",
    "print(args)"
   ]
  },
  {
   "cell_type": "markdown",
   "metadata": {
    "slideshow": {
     "slide_type": "slide"
    }
   },
   "source": [
    "## We can pass any number of arguments to a function with the splat operator"
   ]
  },
  {
   "cell_type": "code",
   "execution_count": null,
   "metadata": {},
   "outputs": [],
   "source": [
    "def fence(*original, wrapper='|'):\n",
    "    \"\"\"This is a documentation string, that will tell us that fence wraps one string in another.\"\"\"\n",
    "    return wrapper + ','.join(original) + wrapper\n",
    "\n",
    "print(fence('sheep', 'sheep', 'sheep', wrapper='~'))"
   ]
  },
  {
   "cell_type": "markdown",
   "metadata": {
    "slideshow": {
     "slide_type": "slide"
    }
   },
   "source": [
    "## Docstrings are important!\n",
    "\n",
    "### They get carried around wherever the function goes."
   ]
  },
  {
   "cell_type": "code",
   "execution_count": null,
   "metadata": {},
   "outputs": [],
   "source": [
    "help(fence)"
   ]
  },
  {
   "cell_type": "markdown",
   "metadata": {
    "slideshow": {
     "slide_type": "slide"
    }
   },
   "source": [
    "#### What do you think prints when the following code runs?  \n",
    "\n",
    "#### Does your neighbor agree?  Check to see if you are right."
   ]
  },
  {
   "cell_type": "code",
   "execution_count": null,
   "metadata": {},
   "outputs": [],
   "source": [
    "x = 0\n",
    "y = 0\n",
    "result = 0\n",
    "\n",
    "def inside_versus_outside(x, y):\n",
    "    result = x + y\n",
    "    return result\n",
    "    \n",
    "\n",
    "print(inside_versus_outside(1, 2))\n",
    "print('x:', x)\n",
    "print('y:', y)\n",
    "print('result:', result)"
   ]
  },
  {
   "cell_type": "markdown",
   "metadata": {
    "slideshow": {
     "slide_type": "slide"
    }
   },
   "source": [
    "#### Functions provide\n",
    "* Structure\n",
    "* Documentation\n",
    "* Isolation"
   ]
  },
  {
   "cell_type": "markdown",
   "metadata": {
    "slideshow": {
     "slide_type": "slide"
    }
   },
   "source": [
    "#### Isolation is provided by the stack.  \n",
    "\n",
    "| function              | vars                     |\n",
    "|:---------------------:|:------------------------ |\n",
    "| __main__              | x = 0                    |\n",
    "|   ...                 | y = 0                    |\n",
    "|   ...                 | result = 0               |\n",
    "| inside_versus_outside | x = 1                    |\n",
    "|   ...                 | y = 2                    |\n",
    "|   ...                 | result = 3               |\n"
   ]
  },
  {
   "cell_type": "markdown",
   "metadata": {
    "slideshow": {
     "slide_type": "slide"
    }
   },
   "source": [
    "## Trick question!  What is one divided by zero?"
   ]
  },
  {
   "cell_type": "code",
   "execution_count": null,
   "metadata": {},
   "outputs": [],
   "source": [
    "1 / 0"
   ]
  },
  {
   "cell_type": "markdown",
   "metadata": {
    "slideshow": {
     "slide_type": "slide"
    }
   },
   "source": [
    "## The stack also gives you tracebacks\n",
    "\n",
    "### Tracebacks show the execution order when things go wrong"
   ]
  },
  {
   "cell_type": "code",
   "execution_count": null,
   "metadata": {
    "slideshow": {
     "slide_type": "-"
    }
   },
   "outputs": [],
   "source": [
    "def everything_is_fine():\n",
    "    uh_oh()\n",
    "\n",
    "def uh_oh():\n",
    "    return 1 / 0\n",
    "\n",
    "everything_is_fine()"
   ]
  },
  {
   "cell_type": "markdown",
   "metadata": {
    "slideshow": {
     "slide_type": "slide"
    }
   },
   "source": [
    "## Did you notice something strange about the `print` function?\n",
    "\n",
    "### It can take any number of arguments"
   ]
  },
  {
   "cell_type": "code",
   "execution_count": null,
   "metadata": {},
   "outputs": [],
   "source": [
    "print('one')\n",
    "print('one', 'two')\n",
    "print('one', 'two', 'three')"
   ]
  },
  {
   "cell_type": "markdown",
   "metadata": {
    "slideshow": {
     "slide_type": "slide"
    }
   },
   "source": [
    "## We can accept any number of arguments by using the unpack operators"
   ]
  },
  {
   "cell_type": "code",
   "execution_count": null,
   "metadata": {},
   "outputs": [],
   "source": [
    "def add_1(my_list=None):\n",
    "    if my_list is None:\n",
    "        my_list = []\n",
    "        \n",
    "    my_list.append(1)\n",
    "    return sum(my_list)\n",
    "\n",
    "print(add_1())\n",
    "print(add_1())\n",
    "print(add_1())"
   ]
  },
  {
   "cell_type": "markdown",
   "metadata": {
    "slideshow": {
     "slide_type": "slide"
    }
   },
   "source": [
    "## Remember character_near_beginning?  \n",
    "\n",
    "\n",
    "### Rewrite the function so that it checks any number of characters with an unpack operator"
   ]
  },
  {
   "cell_type": "markdown",
   "metadata": {
    "slideshow": {
     "slide_type": "slide"
    }
   },
   "source": [
    "### Notice that using `*args` forces the function caller to pass any additional arguments through the keyword"
   ]
  },
  {
   "cell_type": "markdown",
   "metadata": {
    "slideshow": {
     "slide_type": "slide"
    }
   },
   "source": [
    "## What do you think the arguments for this function accomplish?\n",
    "\n",
    "### Check with your neighbor, then try it out"
   ]
  },
  {
   "cell_type": "code",
   "execution_count": null,
   "metadata": {},
   "outputs": [],
   "source": [
    "def F(arg1, *, flag):\n",
    "    ..."
   ]
  },
  {
   "cell_type": "markdown",
   "metadata": {
    "slideshow": {
     "slide_type": "slide"
    }
   },
   "source": [
    "## Let's take one last look at the print() function. \n",
    "\n",
    "#### What does `sep=' '` mean?"
   ]
  },
  {
   "cell_type": "code",
   "execution_count": null,
   "metadata": {},
   "outputs": [],
   "source": [
    "help(print)"
   ]
  },
  {
   "cell_type": "markdown",
   "metadata": {
    "slideshow": {
     "slide_type": "slide"
    }
   },
   "source": [
    "## `sep` is a parameter with a default.\n",
    "\n",
    "#### If you don't set it explicitly, it will equal `' '`"
   ]
  },
  {
   "cell_type": "code",
   "execution_count": null,
   "metadata": {},
   "outputs": [],
   "source": [
    "print('hello', 'world')\n",
    "print('hello', 'world', sep='!')"
   ]
  },
  {
   "cell_type": "markdown",
   "metadata": {
    "slideshow": {
     "slide_type": "slide"
    }
   },
   "source": [
    "## Defaults are defined with an equal sign"
   ]
  },
  {
   "cell_type": "code",
   "execution_count": null,
   "metadata": {},
   "outputs": [],
   "source": [
    "def my_print(*strings, sep=' '):\n",
    "    print(sep.join(strings))\n",
    "    \n",
    "my_print('hello', 'world')"
   ]
  },
  {
   "cell_type": "markdown",
   "metadata": {
    "slideshow": {
     "slide_type": "slide"
    }
   },
   "source": [
    "## Remember character_near_beginning?  \n",
    "\n",
    "### Let's make 10 a default instead of a hardcoded value"
   ]
  },
  {
   "cell_type": "code",
   "execution_count": null,
   "metadata": {},
   "outputs": [],
   "source": [
    "def pretty_print(my_str, offset=''):\n",
    "    for char, i in enumerate(my_str):\n",
    "        ...\n",
    "        if char == '(':\n",
    "            pretty_print(my_str[i + 1:], offset + '  ')\n",
    "    \n",
    "F()"
   ]
  },
  {
   "cell_type": "code",
   "execution_count": null,
   "metadata": {},
   "outputs": [],
   "source": [
    "\"(a + b + (c + d) + e + f + (g + h))\"\n",
    "\n",
    "\"\"\"\n",
    "(\n",
    "a + b +\n",
    "  (\n",
    "    c + d\n",
    "  ) +\n",
    "e + f +\n",
    "  (\n",
    "    g + h\n",
    "  )\n",
    ")\n",
    "\"\"\"\n",
    "\n"
   ]
  },
  {
   "cell_type": "markdown",
   "metadata": {
    "slideshow": {
     "slide_type": "slide"
    }
   },
   "source": [
    "## Challenge Questions!"
   ]
  },
  {
   "cell_type": "markdown",
   "metadata": {
    "slideshow": {
     "slide_type": "slide"
    }
   },
   "source": [
    "## The Old Switcheroo\n",
    "\n",
    "#### Taken from Software Carpentry\n",
    "http://swcarpentry.github.io/python-novice-inflammation/06-func/index.html"
   ]
  },
  {
   "cell_type": "code",
   "execution_count": null,
   "metadata": {},
   "outputs": [],
   "source": [
    "a = 3  # a -> 3\n",
    "b = 7  # a -> 3, b -> 7\n",
    "\n",
    "def swap(aa, bb): # a -> 3, b -> 7, swap -> {function...}            \n",
    "    temp = a  # a -> 3, b -> 7, a' -> 3, b' -> 7, temp -> 3\n",
    "    a = b     # a -> 3, b -> 7, a' -> 7, b' -> 7, temp -> 3\n",
    "    b = temp  # a -> 3, b -> 7, a' -> 7, b' -> 3, temp -> 3\n",
    "\n",
    "swap(a, b)\n",
    " # a -> 3, b -> 7\n",
    "print(a, b)  # What does this print?"
   ]
  },
  {
   "cell_type": "markdown",
   "metadata": {
    "slideshow": {
     "slide_type": "slide"
    }
   },
   "source": [
    "## Mixing Default and Non Default parameters\n",
    "\n",
    "#### Taken from Software Carpentry\n",
    "\n",
    "http://swcarpentry.github.io/python-novice-inflammation/06-func/index.html"
   ]
  },
  {
   "cell_type": "code",
   "execution_count": null,
   "metadata": {},
   "outputs": [],
   "source": [
    "# What does this code do, and why?\n",
    "def numbers(one, two=2, three=3, four=4):\n",
    "    n = str(one) + str(two) + str(three) + str(four)\n",
    "    return n\n",
    "\n",
    "print(numbers(three=3, 1))\n",
    "\n",
    "# '1234'\n",
    "# '13'"
   ]
  }
 ],
 "metadata": {
  "celltoolbar": "Slideshow",
  "kernelspec": {
   "display_name": "Python 3",
   "language": "python",
   "name": "python3"
  },
  "language_info": {
   "codemirror_mode": {
    "name": "ipython",
    "version": 3
   },
   "file_extension": ".py",
   "mimetype": "text/x-python",
   "name": "python",
   "nbconvert_exporter": "python",
   "pygments_lexer": "ipython3",
   "version": "3.7.4"
  }
 },
 "nbformat": 4,
 "nbformat_minor": 2
}
